{
  "nbformat": 4,
  "nbformat_minor": 0,
  "metadata": {
    "colab": {
      "provenance": []
    },
    "kernelspec": {
      "name": "python3",
      "display_name": "Python 3"
    },
    "language_info": {
      "name": "python"
    }
  },
  "cells": [
    {
      "cell_type": "code",
      "execution_count": 1,
      "metadata": {
        "id": "qFkgf2u-XYfR"
      },
      "outputs": [],
      "source": [
        "import pandas as pd"
      ]
    },
    {
      "cell_type": "code",
      "source": [
        "df=pd.read_csv('/content/drive/MyDrive/dataset_csv/GBvideos.csv', error_bad_lines=False)"
      ],
      "metadata": {
        "colab": {
          "base_uri": "https://localhost:8080/"
        },
        "id": "9R3apWXKXpZy",
        "outputId": "a27cc539-8326-44ca-afd7-d9c7f099f9aa"
      },
      "execution_count": 2,
      "outputs": [
        {
          "output_type": "stream",
          "name": "stderr",
          "text": [
            "/usr/local/lib/python3.7/dist-packages/IPython/core/interactiveshell.py:3326: FutureWarning: The error_bad_lines argument has been deprecated and will be removed in a future version.\n",
            "\n",
            "\n",
            "  exec(code_obj, self.user_global_ns, self.user_ns)\n",
            "b'Skipping line 2398: expected 11 fields, saw 21\\nSkipping line 2797: expected 11 fields, saw 21\\n'\n"
          ]
        }
      ]
    },
    {
      "cell_type": "code",
      "source": [
        "df.head()"
      ],
      "metadata": {
        "colab": {
          "base_uri": "https://localhost:8080/",
          "height": 337
        },
        "id": "pD0l3SmJXpjm",
        "outputId": "834868ec-e879-47a0-9b1d-bffb8aa8902d"
      },
      "execution_count": 3,
      "outputs": [
        {
          "output_type": "execute_result",
          "data": {
            "text/plain": [
              "      video_id                                              title  \\\n",
              "0  jt2OHQh0HoQ  Live Apple Event - Apple September Event 2017 ...   \n",
              "1  AqokkXoa7uE  Holly and Phillip Meet Samantha the Sex Robot ...   \n",
              "2  YPVcg45W0z4                    My DNA Test Results! I'm WHAT?!   \n",
              "3  T_PuZBdT2iM  getting into a conversation in a language you ...   \n",
              "4  NsjsmgmbCfc                               Baby Name Challenge!   \n",
              "\n",
              "       channel_title  category_id  \\\n",
              "0        Apple Event           28   \n",
              "1       This Morning           24   \n",
              "2       emmablackery           24   \n",
              "3              ProZD            1   \n",
              "4  Sprinkleofglitter           26   \n",
              "\n",
              "                                                tags    views  likes  \\\n",
              "0  apple events|apple event|iphone 8|iphone x|iph...  7426393  78240   \n",
              "1  this morning|interview|holly willoughby|philli...   494203   2651   \n",
              "2  emmablackery|emma blackery|emma|blackery|briti...   142819  13119   \n",
              "3  skit|korean|language|conversation|esl|japanese...  1580028  65729   \n",
              "4  sprinkleofglitter|sprinkle of glitter|baby gli...    40592   5019   \n",
              "\n",
              "   dislikes  comment_total                                     thumbnail_link  \\\n",
              "0     13548            705  https://i.ytimg.com/vi/jt2OHQh0HoQ/default_liv...   \n",
              "1      1309              0     https://i.ytimg.com/vi/AqokkXoa7uE/default.jpg   \n",
              "2       151           1141     https://i.ytimg.com/vi/YPVcg45W0z4/default.jpg   \n",
              "3      1529           3598     https://i.ytimg.com/vi/T_PuZBdT2iM/default.jpg   \n",
              "4        57            490     https://i.ytimg.com/vi/NsjsmgmbCfc/default.jpg   \n",
              "\n",
              "    date  \n",
              "0  13.09  \n",
              "1  13.09  \n",
              "2  13.09  \n",
              "3  13.09  \n",
              "4  13.09  "
            ],
            "text/html": [
              "\n",
              "  <div id=\"df-baea8b40-3324-4849-ac82-2dd6dd3ab36e\">\n",
              "    <div class=\"colab-df-container\">\n",
              "      <div>\n",
              "<style scoped>\n",
              "    .dataframe tbody tr th:only-of-type {\n",
              "        vertical-align: middle;\n",
              "    }\n",
              "\n",
              "    .dataframe tbody tr th {\n",
              "        vertical-align: top;\n",
              "    }\n",
              "\n",
              "    .dataframe thead th {\n",
              "        text-align: right;\n",
              "    }\n",
              "</style>\n",
              "<table border=\"1\" class=\"dataframe\">\n",
              "  <thead>\n",
              "    <tr style=\"text-align: right;\">\n",
              "      <th></th>\n",
              "      <th>video_id</th>\n",
              "      <th>title</th>\n",
              "      <th>channel_title</th>\n",
              "      <th>category_id</th>\n",
              "      <th>tags</th>\n",
              "      <th>views</th>\n",
              "      <th>likes</th>\n",
              "      <th>dislikes</th>\n",
              "      <th>comment_total</th>\n",
              "      <th>thumbnail_link</th>\n",
              "      <th>date</th>\n",
              "    </tr>\n",
              "  </thead>\n",
              "  <tbody>\n",
              "    <tr>\n",
              "      <th>0</th>\n",
              "      <td>jt2OHQh0HoQ</td>\n",
              "      <td>Live Apple Event - Apple September Event 2017 ...</td>\n",
              "      <td>Apple Event</td>\n",
              "      <td>28</td>\n",
              "      <td>apple events|apple event|iphone 8|iphone x|iph...</td>\n",
              "      <td>7426393</td>\n",
              "      <td>78240</td>\n",
              "      <td>13548</td>\n",
              "      <td>705</td>\n",
              "      <td>https://i.ytimg.com/vi/jt2OHQh0HoQ/default_liv...</td>\n",
              "      <td>13.09</td>\n",
              "    </tr>\n",
              "    <tr>\n",
              "      <th>1</th>\n",
              "      <td>AqokkXoa7uE</td>\n",
              "      <td>Holly and Phillip Meet Samantha the Sex Robot ...</td>\n",
              "      <td>This Morning</td>\n",
              "      <td>24</td>\n",
              "      <td>this morning|interview|holly willoughby|philli...</td>\n",
              "      <td>494203</td>\n",
              "      <td>2651</td>\n",
              "      <td>1309</td>\n",
              "      <td>0</td>\n",
              "      <td>https://i.ytimg.com/vi/AqokkXoa7uE/default.jpg</td>\n",
              "      <td>13.09</td>\n",
              "    </tr>\n",
              "    <tr>\n",
              "      <th>2</th>\n",
              "      <td>YPVcg45W0z4</td>\n",
              "      <td>My DNA Test Results! I'm WHAT?!</td>\n",
              "      <td>emmablackery</td>\n",
              "      <td>24</td>\n",
              "      <td>emmablackery|emma blackery|emma|blackery|briti...</td>\n",
              "      <td>142819</td>\n",
              "      <td>13119</td>\n",
              "      <td>151</td>\n",
              "      <td>1141</td>\n",
              "      <td>https://i.ytimg.com/vi/YPVcg45W0z4/default.jpg</td>\n",
              "      <td>13.09</td>\n",
              "    </tr>\n",
              "    <tr>\n",
              "      <th>3</th>\n",
              "      <td>T_PuZBdT2iM</td>\n",
              "      <td>getting into a conversation in a language you ...</td>\n",
              "      <td>ProZD</td>\n",
              "      <td>1</td>\n",
              "      <td>skit|korean|language|conversation|esl|japanese...</td>\n",
              "      <td>1580028</td>\n",
              "      <td>65729</td>\n",
              "      <td>1529</td>\n",
              "      <td>3598</td>\n",
              "      <td>https://i.ytimg.com/vi/T_PuZBdT2iM/default.jpg</td>\n",
              "      <td>13.09</td>\n",
              "    </tr>\n",
              "    <tr>\n",
              "      <th>4</th>\n",
              "      <td>NsjsmgmbCfc</td>\n",
              "      <td>Baby Name Challenge!</td>\n",
              "      <td>Sprinkleofglitter</td>\n",
              "      <td>26</td>\n",
              "      <td>sprinkleofglitter|sprinkle of glitter|baby gli...</td>\n",
              "      <td>40592</td>\n",
              "      <td>5019</td>\n",
              "      <td>57</td>\n",
              "      <td>490</td>\n",
              "      <td>https://i.ytimg.com/vi/NsjsmgmbCfc/default.jpg</td>\n",
              "      <td>13.09</td>\n",
              "    </tr>\n",
              "  </tbody>\n",
              "</table>\n",
              "</div>\n",
              "      <button class=\"colab-df-convert\" onclick=\"convertToInteractive('df-baea8b40-3324-4849-ac82-2dd6dd3ab36e')\"\n",
              "              title=\"Convert this dataframe to an interactive table.\"\n",
              "              style=\"display:none;\">\n",
              "        \n",
              "  <svg xmlns=\"http://www.w3.org/2000/svg\" height=\"24px\"viewBox=\"0 0 24 24\"\n",
              "       width=\"24px\">\n",
              "    <path d=\"M0 0h24v24H0V0z\" fill=\"none\"/>\n",
              "    <path d=\"M18.56 5.44l.94 2.06.94-2.06 2.06-.94-2.06-.94-.94-2.06-.94 2.06-2.06.94zm-11 1L8.5 8.5l.94-2.06 2.06-.94-2.06-.94L8.5 2.5l-.94 2.06-2.06.94zm10 10l.94 2.06.94-2.06 2.06-.94-2.06-.94-.94-2.06-.94 2.06-2.06.94z\"/><path d=\"M17.41 7.96l-1.37-1.37c-.4-.4-.92-.59-1.43-.59-.52 0-1.04.2-1.43.59L10.3 9.45l-7.72 7.72c-.78.78-.78 2.05 0 2.83L4 21.41c.39.39.9.59 1.41.59.51 0 1.02-.2 1.41-.59l7.78-7.78 2.81-2.81c.8-.78.8-2.07 0-2.86zM5.41 20L4 18.59l7.72-7.72 1.47 1.35L5.41 20z\"/>\n",
              "  </svg>\n",
              "      </button>\n",
              "      \n",
              "  <style>\n",
              "    .colab-df-container {\n",
              "      display:flex;\n",
              "      flex-wrap:wrap;\n",
              "      gap: 12px;\n",
              "    }\n",
              "\n",
              "    .colab-df-convert {\n",
              "      background-color: #E8F0FE;\n",
              "      border: none;\n",
              "      border-radius: 50%;\n",
              "      cursor: pointer;\n",
              "      display: none;\n",
              "      fill: #1967D2;\n",
              "      height: 32px;\n",
              "      padding: 0 0 0 0;\n",
              "      width: 32px;\n",
              "    }\n",
              "\n",
              "    .colab-df-convert:hover {\n",
              "      background-color: #E2EBFA;\n",
              "      box-shadow: 0px 1px 2px rgba(60, 64, 67, 0.3), 0px 1px 3px 1px rgba(60, 64, 67, 0.15);\n",
              "      fill: #174EA6;\n",
              "    }\n",
              "\n",
              "    [theme=dark] .colab-df-convert {\n",
              "      background-color: #3B4455;\n",
              "      fill: #D2E3FC;\n",
              "    }\n",
              "\n",
              "    [theme=dark] .colab-df-convert:hover {\n",
              "      background-color: #434B5C;\n",
              "      box-shadow: 0px 1px 3px 1px rgba(0, 0, 0, 0.15);\n",
              "      filter: drop-shadow(0px 1px 2px rgba(0, 0, 0, 0.3));\n",
              "      fill: #FFFFFF;\n",
              "    }\n",
              "  </style>\n",
              "\n",
              "      <script>\n",
              "        const buttonEl =\n",
              "          document.querySelector('#df-baea8b40-3324-4849-ac82-2dd6dd3ab36e button.colab-df-convert');\n",
              "        buttonEl.style.display =\n",
              "          google.colab.kernel.accessAllowed ? 'block' : 'none';\n",
              "\n",
              "        async function convertToInteractive(key) {\n",
              "          const element = document.querySelector('#df-baea8b40-3324-4849-ac82-2dd6dd3ab36e');\n",
              "          const dataTable =\n",
              "            await google.colab.kernel.invokeFunction('convertToInteractive',\n",
              "                                                     [key], {});\n",
              "          if (!dataTable) return;\n",
              "\n",
              "          const docLinkHtml = 'Like what you see? Visit the ' +\n",
              "            '<a target=\"_blank\" href=https://colab.research.google.com/notebooks/data_table.ipynb>data table notebook</a>'\n",
              "            + ' to learn more about interactive tables.';\n",
              "          element.innerHTML = '';\n",
              "          dataTable['output_type'] = 'display_data';\n",
              "          await google.colab.output.renderOutput(dataTable, element);\n",
              "          const docLink = document.createElement('div');\n",
              "          docLink.innerHTML = docLinkHtml;\n",
              "          element.appendChild(docLink);\n",
              "        }\n",
              "      </script>\n",
              "    </div>\n",
              "  </div>\n",
              "  "
            ]
          },
          "metadata": {},
          "execution_count": 3
        }
      ]
    },
    {
      "cell_type": "code",
      "source": [
        "df['views'].describe()"
      ],
      "metadata": {
        "colab": {
          "base_uri": "https://localhost:8080/"
        },
        "id": "lRF6ymbdXpq6",
        "outputId": "f6a2f32f-b500-47de-b48d-c0afc2d061f5"
      },
      "execution_count": 4,
      "outputs": [
        {
          "output_type": "execute_result",
          "data": {
            "text/plain": [
              "count    7.993000e+03\n",
              "mean     1.110733e+06\n",
              "std      3.048740e+06\n",
              "min      0.000000e+00\n",
              "25%      1.083750e+05\n",
              "50%      3.151940e+05\n",
              "75%      9.712210e+05\n",
              "max      5.896141e+07\n",
              "Name: views, dtype: float64"
            ]
          },
          "metadata": {},
          "execution_count": 4
        }
      ]
    },
    {
      "cell_type": "code",
      "source": [
        "df['channel_title'].value_counts()"
      ],
      "metadata": {
        "colab": {
          "base_uri": "https://localhost:8080/"
        },
        "id": "oDtQ3G7yXpuC",
        "outputId": "4cc18564-ae31-4a82-a5a8-8ab01f2364dd"
      },
      "execution_count": 5,
      "outputs": [
        {
          "output_type": "execute_result",
          "data": {
            "text/plain": [
              "The Tonight Show Starring Jimmy Fallon    40\n",
              "First We Feast                            40\n",
              "jacksfilms                                39\n",
              "Nile Wilson                               38\n",
              "PointlessBlogVlogs                        38\n",
              "                                          ..\n",
              "YandelVEVO                                 1\n",
              "BD Horror Trailers and Clips               1\n",
              "NBA                                        1\n",
              "Guinness World Records                     1\n",
              "Gladd                                      1\n",
              "Name: channel_title, Length: 1003, dtype: int64"
            ]
          },
          "metadata": {},
          "execution_count": 5
        }
      ]
    },
    {
      "cell_type": "markdown",
      "source": [
        "Here i want to discover how many channel are in this data set"
      ],
      "metadata": {
        "id": "xDfllR8cbX1y"
      }
    },
    {
      "cell_type": "markdown",
      "source": [
        "Let see what makes Jimmy Fallon produce many videos"
      ],
      "metadata": {
        "id": "61pr-tKsbQE-"
      }
    },
    {
      "cell_type": "code",
      "source": [
        "df_jimmy_fallon = df[df['channel_title'] == 'The Tonight Show Starring Jimmy Fallon']"
      ],
      "metadata": {
        "id": "2c6HleoOXpx9"
      },
      "execution_count": 6,
      "outputs": []
    },
    {
      "cell_type": "code",
      "source": [
        "df_jimmy_fallon.shape"
      ],
      "metadata": {
        "colab": {
          "base_uri": "https://localhost:8080/"
        },
        "id": "7sVY78yRcKM4",
        "outputId": "e68ce792-2e8a-4cb8-bf3d-b060e50c3864"
      },
      "execution_count": 7,
      "outputs": [
        {
          "output_type": "execute_result",
          "data": {
            "text/plain": [
              "(40, 11)"
            ]
          },
          "metadata": {},
          "execution_count": 7
        }
      ]
    },
    {
      "cell_type": "markdown",
      "source": [
        "Here is 40, all good"
      ],
      "metadata": {
        "id": "3fKGOwM_cZyF"
      }
    },
    {
      "cell_type": "code",
      "source": [
        "df_jimmy_fallon['views'].describe().apply(lambda x: format(x, 'f'))"
      ],
      "metadata": {
        "colab": {
          "base_uri": "https://localhost:8080/"
        },
        "id": "7polNgYXchId",
        "outputId": "f5d30e3e-bde7-4a26-c40d-147a6838b5f6"
      },
      "execution_count": 8,
      "outputs": [
        {
          "output_type": "execute_result",
          "data": {
            "text/plain": [
              "count         40.000000\n",
              "mean     1328061.250000\n",
              "std      1138216.063081\n",
              "min       108480.000000\n",
              "25%       588994.000000\n",
              "50%       963740.500000\n",
              "75%      2027072.750000\n",
              "max      3988237.000000\n",
              "Name: views, dtype: object"
            ]
          },
          "metadata": {},
          "execution_count": 8
        }
      ]
    },
    {
      "cell_type": "markdown",
      "source": [
        "Let understand which are the video with minimum views and maximum views, in order to see which comments provoked such recordings"
      ],
      "metadata": {
        "id": "0LilSkZRyAE7"
      }
    },
    {
      "cell_type": "code",
      "source": [
        "def views_less(column):\n",
        "\n",
        "  element_less=[]\n",
        "  min_col=column.min()\n",
        "  counter=0\n",
        "\n",
        "  for i in column:\n",
        "\n",
        "    if i == min_col:\n",
        "\n",
        "      \n",
        "      print(i)\n",
        "\n",
        "      element_less.append(counter)\n",
        "\n",
        "    counter+=1\n",
        "  \n",
        "  print(element_less)\n",
        "\n",
        "    "
      ],
      "metadata": {
        "id": "nZRxIn3oUKFz"
      },
      "execution_count": 9,
      "outputs": []
    },
    {
      "cell_type": "code",
      "source": [
        "views_less(df_jimmy_fallon['views'])"
      ],
      "metadata": {
        "colab": {
          "base_uri": "https://localhost:8080/"
        },
        "id": "8bulGZdeVIdp",
        "outputId": "07218025-bf38-4043-81c3-154ec7477914"
      },
      "execution_count": 10,
      "outputs": [
        {
          "output_type": "stream",
          "name": "stdout",
          "text": [
            "108480\n",
            "[10]\n"
          ]
        }
      ]
    },
    {
      "cell_type": "markdown",
      "source": [
        "Let store the video with the less views"
      ],
      "metadata": {
        "id": "sKvoygdsx5Ds"
      }
    },
    {
      "cell_type": "code",
      "source": [
        "print(df_jimmy_fallon.iloc[10])\n",
        "video_with_less_views=df_jimmy_fallon.iloc[10]"
      ],
      "metadata": {
        "colab": {
          "base_uri": "https://localhost:8080/"
        },
        "id": "GUxb_2zJW8dw",
        "outputId": "963c4776-9076-4b46-a2e4-48d6275a0286"
      },
      "execution_count": 11,
      "outputs": [
        {
          "output_type": "stream",
          "name": "stdout",
          "text": [
            "video_id                                                RgskTJ27hPY\n",
            "title             Black Simon & Garfunkel Sing My Humps with Fergie\n",
            "channel_title                The Tonight Show Starring Jimmy Fallon\n",
            "category_id                                                      23\n",
            "tags              The Tonight Show|Jimmy Fallon|Black Simon & Ga...\n",
            "views                                                        108480\n",
            "likes                                                          2793\n",
            "dislikes                                                         77\n",
            "comment_total                                                   117\n",
            "thumbnail_link       https://i.ytimg.com/vi/RgskTJ27hPY/default.jpg\n",
            "date                                                          23.09\n",
            "Name: 2060, dtype: object\n"
          ]
        }
      ]
    },
    {
      "cell_type": "code",
      "source": [
        "def views_best(column):\n",
        "\n",
        "  element_less=[]\n",
        "  max_col=column.max()\n",
        "  counter=0\n",
        "\n",
        "  for i in column:\n",
        "\n",
        "    if i == max_col:\n",
        "\n",
        "      \n",
        "      print(i)\n",
        "\n",
        "      element_less.append(counter)\n",
        "\n",
        "    counter+=1\n",
        "  \n",
        "  print(element_less)"
      ],
      "metadata": {
        "id": "MRFaKDc7YziM"
      },
      "execution_count": 12,
      "outputs": []
    },
    {
      "cell_type": "code",
      "source": [
        "views_best(df_jimmy_fallon['views'])"
      ],
      "metadata": {
        "colab": {
          "base_uri": "https://localhost:8080/"
        },
        "id": "XDn4Q6cxY8-O",
        "outputId": "12bdc52f-f245-4b7e-ffd1-3ae2e01c2159"
      },
      "execution_count": 13,
      "outputs": [
        {
          "output_type": "stream",
          "name": "stdout",
          "text": [
            "3988237\n",
            "[27]\n"
          ]
        }
      ]
    },
    {
      "cell_type": "code",
      "source": [
        "df_jimmy_fallon.iloc[27]\n",
        "video_with_more_views=df_jimmy_fallon.iloc[27]"
      ],
      "metadata": {
        "id": "_ToS4VGeZIMu"
      },
      "execution_count": 14,
      "outputs": []
    },
    {
      "cell_type": "markdown",
      "source": [
        "Now let's compare with the data with comments"
      ],
      "metadata": {
        "id": "b3WUT7l4yMZb"
      }
    },
    {
      "cell_type": "code",
      "source": [
        "df_comments=pd.read_csv('/content/drive/MyDrive/dataset_csv/GBcomments.csv', error_bad_lines=False)"
      ],
      "metadata": {
        "colab": {
          "base_uri": "https://localhost:8080/"
        },
        "id": "emnfbKXIsbsQ",
        "outputId": "041422ac-e73a-417c-cb32-ed756f7b6a48"
      },
      "execution_count": 15,
      "outputs": [
        {
          "output_type": "stream",
          "name": "stderr",
          "text": [
            "/usr/local/lib/python3.7/dist-packages/IPython/core/interactiveshell.py:3326: FutureWarning: The error_bad_lines argument has been deprecated and will be removed in a future version.\n",
            "\n",
            "\n",
            "  exec(code_obj, self.user_global_ns, self.user_ns)\n",
            "b'Skipping line 113225: expected 4 fields, saw 5\\n'\n",
            "b'Skipping line 158379: expected 4 fields, saw 7\\nSkipping line 241590: expected 4 fields, saw 5\\nSkipping line 245637: expected 4 fields, saw 7\\n'\n",
            "b'Skipping line 521402: expected 4 fields, saw 5\\n'\n"
          ]
        }
      ]
    },
    {
      "cell_type": "code",
      "source": [
        "df_comments"
      ],
      "metadata": {
        "colab": {
          "base_uri": "https://localhost:8080/",
          "height": 424
        },
        "id": "JXPdANawxej9",
        "outputId": "4b0c1360-29c2-4f8c-b887-70f7dcad6a33"
      },
      "execution_count": 16,
      "outputs": [
        {
          "output_type": "execute_result",
          "data": {
            "text/plain": [
              "           video_id                                       comment_text  likes  \\\n",
              "0       jt2OHQh0HoQ  It's more accurate to call it the M+ (1000) be...      0   \n",
              "1       jt2OHQh0HoQ              To be there with a samsung phone\\n😂😂😂      1   \n",
              "2       jt2OHQh0HoQ  Thank gosh, a place I can watch it without hav...      0   \n",
              "3       jt2OHQh0HoQ  What happened to the home button on the iPhone...      0   \n",
              "4       jt2OHQh0HoQ  Power is the disease.  Care is the cure.  Keep...      0   \n",
              "...             ...                                                ...    ...   \n",
              "718447  lLN1FwiqGwc                            MEME ME MEME ME MEME ME      0   \n",
              "718448  lLN1FwiqGwc                    Yeah, but does everybody float?      0   \n",
              "718449  lLN1FwiqGwc                                That meme me dace 😂      0   \n",
              "718450  lLN1FwiqGwc                     10:43 Is that Miles Upshur????      2   \n",
              "718451  lLN1FwiqGwc                                WA-HA\\nWA-HA\\nWA-HA      1   \n",
              "\n",
              "        replies  \n",
              "0             0  \n",
              "1             0  \n",
              "2             0  \n",
              "3             0  \n",
              "4             0  \n",
              "...         ...  \n",
              "718447        0  \n",
              "718448        0  \n",
              "718449        0  \n",
              "718450        0  \n",
              "718451        0  \n",
              "\n",
              "[718452 rows x 4 columns]"
            ],
            "text/html": [
              "\n",
              "  <div id=\"df-7a371cd3-c223-4af2-b969-ab8fea0d185b\">\n",
              "    <div class=\"colab-df-container\">\n",
              "      <div>\n",
              "<style scoped>\n",
              "    .dataframe tbody tr th:only-of-type {\n",
              "        vertical-align: middle;\n",
              "    }\n",
              "\n",
              "    .dataframe tbody tr th {\n",
              "        vertical-align: top;\n",
              "    }\n",
              "\n",
              "    .dataframe thead th {\n",
              "        text-align: right;\n",
              "    }\n",
              "</style>\n",
              "<table border=\"1\" class=\"dataframe\">\n",
              "  <thead>\n",
              "    <tr style=\"text-align: right;\">\n",
              "      <th></th>\n",
              "      <th>video_id</th>\n",
              "      <th>comment_text</th>\n",
              "      <th>likes</th>\n",
              "      <th>replies</th>\n",
              "    </tr>\n",
              "  </thead>\n",
              "  <tbody>\n",
              "    <tr>\n",
              "      <th>0</th>\n",
              "      <td>jt2OHQh0HoQ</td>\n",
              "      <td>It's more accurate to call it the M+ (1000) be...</td>\n",
              "      <td>0</td>\n",
              "      <td>0</td>\n",
              "    </tr>\n",
              "    <tr>\n",
              "      <th>1</th>\n",
              "      <td>jt2OHQh0HoQ</td>\n",
              "      <td>To be there with a samsung phone\\n😂😂😂</td>\n",
              "      <td>1</td>\n",
              "      <td>0</td>\n",
              "    </tr>\n",
              "    <tr>\n",
              "      <th>2</th>\n",
              "      <td>jt2OHQh0HoQ</td>\n",
              "      <td>Thank gosh, a place I can watch it without hav...</td>\n",
              "      <td>0</td>\n",
              "      <td>0</td>\n",
              "    </tr>\n",
              "    <tr>\n",
              "      <th>3</th>\n",
              "      <td>jt2OHQh0HoQ</td>\n",
              "      <td>What happened to the home button on the iPhone...</td>\n",
              "      <td>0</td>\n",
              "      <td>0</td>\n",
              "    </tr>\n",
              "    <tr>\n",
              "      <th>4</th>\n",
              "      <td>jt2OHQh0HoQ</td>\n",
              "      <td>Power is the disease.  Care is the cure.  Keep...</td>\n",
              "      <td>0</td>\n",
              "      <td>0</td>\n",
              "    </tr>\n",
              "    <tr>\n",
              "      <th>...</th>\n",
              "      <td>...</td>\n",
              "      <td>...</td>\n",
              "      <td>...</td>\n",
              "      <td>...</td>\n",
              "    </tr>\n",
              "    <tr>\n",
              "      <th>718447</th>\n",
              "      <td>lLN1FwiqGwc</td>\n",
              "      <td>MEME ME MEME ME MEME ME</td>\n",
              "      <td>0</td>\n",
              "      <td>0</td>\n",
              "    </tr>\n",
              "    <tr>\n",
              "      <th>718448</th>\n",
              "      <td>lLN1FwiqGwc</td>\n",
              "      <td>Yeah, but does everybody float?</td>\n",
              "      <td>0</td>\n",
              "      <td>0</td>\n",
              "    </tr>\n",
              "    <tr>\n",
              "      <th>718449</th>\n",
              "      <td>lLN1FwiqGwc</td>\n",
              "      <td>That meme me dace 😂</td>\n",
              "      <td>0</td>\n",
              "      <td>0</td>\n",
              "    </tr>\n",
              "    <tr>\n",
              "      <th>718450</th>\n",
              "      <td>lLN1FwiqGwc</td>\n",
              "      <td>10:43 Is that Miles Upshur????</td>\n",
              "      <td>2</td>\n",
              "      <td>0</td>\n",
              "    </tr>\n",
              "    <tr>\n",
              "      <th>718451</th>\n",
              "      <td>lLN1FwiqGwc</td>\n",
              "      <td>WA-HA\\nWA-HA\\nWA-HA</td>\n",
              "      <td>1</td>\n",
              "      <td>0</td>\n",
              "    </tr>\n",
              "  </tbody>\n",
              "</table>\n",
              "<p>718452 rows × 4 columns</p>\n",
              "</div>\n",
              "      <button class=\"colab-df-convert\" onclick=\"convertToInteractive('df-7a371cd3-c223-4af2-b969-ab8fea0d185b')\"\n",
              "              title=\"Convert this dataframe to an interactive table.\"\n",
              "              style=\"display:none;\">\n",
              "        \n",
              "  <svg xmlns=\"http://www.w3.org/2000/svg\" height=\"24px\"viewBox=\"0 0 24 24\"\n",
              "       width=\"24px\">\n",
              "    <path d=\"M0 0h24v24H0V0z\" fill=\"none\"/>\n",
              "    <path d=\"M18.56 5.44l.94 2.06.94-2.06 2.06-.94-2.06-.94-.94-2.06-.94 2.06-2.06.94zm-11 1L8.5 8.5l.94-2.06 2.06-.94-2.06-.94L8.5 2.5l-.94 2.06-2.06.94zm10 10l.94 2.06.94-2.06 2.06-.94-2.06-.94-.94-2.06-.94 2.06-2.06.94z\"/><path d=\"M17.41 7.96l-1.37-1.37c-.4-.4-.92-.59-1.43-.59-.52 0-1.04.2-1.43.59L10.3 9.45l-7.72 7.72c-.78.78-.78 2.05 0 2.83L4 21.41c.39.39.9.59 1.41.59.51 0 1.02-.2 1.41-.59l7.78-7.78 2.81-2.81c.8-.78.8-2.07 0-2.86zM5.41 20L4 18.59l7.72-7.72 1.47 1.35L5.41 20z\"/>\n",
              "  </svg>\n",
              "      </button>\n",
              "      \n",
              "  <style>\n",
              "    .colab-df-container {\n",
              "      display:flex;\n",
              "      flex-wrap:wrap;\n",
              "      gap: 12px;\n",
              "    }\n",
              "\n",
              "    .colab-df-convert {\n",
              "      background-color: #E8F0FE;\n",
              "      border: none;\n",
              "      border-radius: 50%;\n",
              "      cursor: pointer;\n",
              "      display: none;\n",
              "      fill: #1967D2;\n",
              "      height: 32px;\n",
              "      padding: 0 0 0 0;\n",
              "      width: 32px;\n",
              "    }\n",
              "\n",
              "    .colab-df-convert:hover {\n",
              "      background-color: #E2EBFA;\n",
              "      box-shadow: 0px 1px 2px rgba(60, 64, 67, 0.3), 0px 1px 3px 1px rgba(60, 64, 67, 0.15);\n",
              "      fill: #174EA6;\n",
              "    }\n",
              "\n",
              "    [theme=dark] .colab-df-convert {\n",
              "      background-color: #3B4455;\n",
              "      fill: #D2E3FC;\n",
              "    }\n",
              "\n",
              "    [theme=dark] .colab-df-convert:hover {\n",
              "      background-color: #434B5C;\n",
              "      box-shadow: 0px 1px 3px 1px rgba(0, 0, 0, 0.15);\n",
              "      filter: drop-shadow(0px 1px 2px rgba(0, 0, 0, 0.3));\n",
              "      fill: #FFFFFF;\n",
              "    }\n",
              "  </style>\n",
              "\n",
              "      <script>\n",
              "        const buttonEl =\n",
              "          document.querySelector('#df-7a371cd3-c223-4af2-b969-ab8fea0d185b button.colab-df-convert');\n",
              "        buttonEl.style.display =\n",
              "          google.colab.kernel.accessAllowed ? 'block' : 'none';\n",
              "\n",
              "        async function convertToInteractive(key) {\n",
              "          const element = document.querySelector('#df-7a371cd3-c223-4af2-b969-ab8fea0d185b');\n",
              "          const dataTable =\n",
              "            await google.colab.kernel.invokeFunction('convertToInteractive',\n",
              "                                                     [key], {});\n",
              "          if (!dataTable) return;\n",
              "\n",
              "          const docLinkHtml = 'Like what you see? Visit the ' +\n",
              "            '<a target=\"_blank\" href=https://colab.research.google.com/notebooks/data_table.ipynb>data table notebook</a>'\n",
              "            + ' to learn more about interactive tables.';\n",
              "          element.innerHTML = '';\n",
              "          dataTable['output_type'] = 'display_data';\n",
              "          await google.colab.output.renderOutput(dataTable, element);\n",
              "          const docLink = document.createElement('div');\n",
              "          docLink.innerHTML = docLinkHtml;\n",
              "          element.appendChild(docLink);\n",
              "        }\n",
              "      </script>\n",
              "    </div>\n",
              "  </div>\n",
              "  "
            ]
          },
          "metadata": {},
          "execution_count": 16
        }
      ]
    },
    {
      "cell_type": "code",
      "source": [
        "video_id_less_views=video_with_less_views[0]"
      ],
      "metadata": {
        "id": "Pa2-UyFFxf_S"
      },
      "execution_count": 23,
      "outputs": []
    },
    {
      "cell_type": "code",
      "source": [
        "df_comments_less= df_comments[df_comments['video_id']==video_id_less_views]"
      ],
      "metadata": {
        "id": "L8xEpmhYzMPC"
      },
      "execution_count": 24,
      "outputs": []
    },
    {
      "cell_type": "code",
      "source": [
        "df_comments_less"
      ],
      "metadata": {
        "colab": {
          "base_uri": "https://localhost:8080/",
          "height": 424
        },
        "id": "yV3aPWT0zyPT",
        "outputId": "7e27c90d-5c5c-47e3-bb28-3cc55939cf90"
      },
      "execution_count": 25,
      "outputs": [
        {
          "output_type": "execute_result",
          "data": {
            "text/plain": [
              "           video_id                                       comment_text  likes  \\\n",
              "181921  RgskTJ27hPY  Fergie looks so funny when she's in the moment...     75   \n",
              "181922  RgskTJ27hPY                                  Fergie is so fine    191   \n",
              "181923  RgskTJ27hPY                           *Beatles sing despacito*     83   \n",
              "181924  RgskTJ27hPY                        Hello darkness my old nigga    251   \n",
              "181925  RgskTJ27hPY                          She still looks the same!     44   \n",
              "...             ...                                                ...    ...   \n",
              "233880  RgskTJ27hPY  fergie did something to her lips \\nshe looks l...      1   \n",
              "233881  RgskTJ27hPY                 DeeZ niggas so emotional n shieeet      1   \n",
              "233882  RgskTJ27hPY  But she's not in the peas anymore so she shoul...      1   \n",
              "233883  RgskTJ27hPY  FERGIE??\\nthe one who tried to sell a song cal...      2   \n",
              "233884  RgskTJ27hPY  Excuse me, but it's not Black. It's African-Am...      1   \n",
              "\n",
              "        replies  \n",
              "181921        0  \n",
              "181922        0  \n",
              "181923        3  \n",
              "181924        4  \n",
              "181925        0  \n",
              "...         ...  \n",
              "233880        0  \n",
              "233881        0  \n",
              "233882        3  \n",
              "233883        1  \n",
              "233884       11  \n",
              "\n",
              "[244 rows x 4 columns]"
            ],
            "text/html": [
              "\n",
              "  <div id=\"df-bbfdf633-6ea4-4339-8933-ebe0a5b3e87c\">\n",
              "    <div class=\"colab-df-container\">\n",
              "      <div>\n",
              "<style scoped>\n",
              "    .dataframe tbody tr th:only-of-type {\n",
              "        vertical-align: middle;\n",
              "    }\n",
              "\n",
              "    .dataframe tbody tr th {\n",
              "        vertical-align: top;\n",
              "    }\n",
              "\n",
              "    .dataframe thead th {\n",
              "        text-align: right;\n",
              "    }\n",
              "</style>\n",
              "<table border=\"1\" class=\"dataframe\">\n",
              "  <thead>\n",
              "    <tr style=\"text-align: right;\">\n",
              "      <th></th>\n",
              "      <th>video_id</th>\n",
              "      <th>comment_text</th>\n",
              "      <th>likes</th>\n",
              "      <th>replies</th>\n",
              "    </tr>\n",
              "  </thead>\n",
              "  <tbody>\n",
              "    <tr>\n",
              "      <th>181921</th>\n",
              "      <td>RgskTJ27hPY</td>\n",
              "      <td>Fergie looks so funny when she's in the moment...</td>\n",
              "      <td>75</td>\n",
              "      <td>0</td>\n",
              "    </tr>\n",
              "    <tr>\n",
              "      <th>181922</th>\n",
              "      <td>RgskTJ27hPY</td>\n",
              "      <td>Fergie is so fine</td>\n",
              "      <td>191</td>\n",
              "      <td>0</td>\n",
              "    </tr>\n",
              "    <tr>\n",
              "      <th>181923</th>\n",
              "      <td>RgskTJ27hPY</td>\n",
              "      <td>*Beatles sing despacito*</td>\n",
              "      <td>83</td>\n",
              "      <td>3</td>\n",
              "    </tr>\n",
              "    <tr>\n",
              "      <th>181924</th>\n",
              "      <td>RgskTJ27hPY</td>\n",
              "      <td>Hello darkness my old nigga</td>\n",
              "      <td>251</td>\n",
              "      <td>4</td>\n",
              "    </tr>\n",
              "    <tr>\n",
              "      <th>181925</th>\n",
              "      <td>RgskTJ27hPY</td>\n",
              "      <td>She still looks the same!</td>\n",
              "      <td>44</td>\n",
              "      <td>0</td>\n",
              "    </tr>\n",
              "    <tr>\n",
              "      <th>...</th>\n",
              "      <td>...</td>\n",
              "      <td>...</td>\n",
              "      <td>...</td>\n",
              "      <td>...</td>\n",
              "    </tr>\n",
              "    <tr>\n",
              "      <th>233880</th>\n",
              "      <td>RgskTJ27hPY</td>\n",
              "      <td>fergie did something to her lips \\nshe looks l...</td>\n",
              "      <td>1</td>\n",
              "      <td>0</td>\n",
              "    </tr>\n",
              "    <tr>\n",
              "      <th>233881</th>\n",
              "      <td>RgskTJ27hPY</td>\n",
              "      <td>DeeZ niggas so emotional n shieeet</td>\n",
              "      <td>1</td>\n",
              "      <td>0</td>\n",
              "    </tr>\n",
              "    <tr>\n",
              "      <th>233882</th>\n",
              "      <td>RgskTJ27hPY</td>\n",
              "      <td>But she's not in the peas anymore so she shoul...</td>\n",
              "      <td>1</td>\n",
              "      <td>3</td>\n",
              "    </tr>\n",
              "    <tr>\n",
              "      <th>233883</th>\n",
              "      <td>RgskTJ27hPY</td>\n",
              "      <td>FERGIE??\\nthe one who tried to sell a song cal...</td>\n",
              "      <td>2</td>\n",
              "      <td>1</td>\n",
              "    </tr>\n",
              "    <tr>\n",
              "      <th>233884</th>\n",
              "      <td>RgskTJ27hPY</td>\n",
              "      <td>Excuse me, but it's not Black. It's African-Am...</td>\n",
              "      <td>1</td>\n",
              "      <td>11</td>\n",
              "    </tr>\n",
              "  </tbody>\n",
              "</table>\n",
              "<p>244 rows × 4 columns</p>\n",
              "</div>\n",
              "      <button class=\"colab-df-convert\" onclick=\"convertToInteractive('df-bbfdf633-6ea4-4339-8933-ebe0a5b3e87c')\"\n",
              "              title=\"Convert this dataframe to an interactive table.\"\n",
              "              style=\"display:none;\">\n",
              "        \n",
              "  <svg xmlns=\"http://www.w3.org/2000/svg\" height=\"24px\"viewBox=\"0 0 24 24\"\n",
              "       width=\"24px\">\n",
              "    <path d=\"M0 0h24v24H0V0z\" fill=\"none\"/>\n",
              "    <path d=\"M18.56 5.44l.94 2.06.94-2.06 2.06-.94-2.06-.94-.94-2.06-.94 2.06-2.06.94zm-11 1L8.5 8.5l.94-2.06 2.06-.94-2.06-.94L8.5 2.5l-.94 2.06-2.06.94zm10 10l.94 2.06.94-2.06 2.06-.94-2.06-.94-.94-2.06-.94 2.06-2.06.94z\"/><path d=\"M17.41 7.96l-1.37-1.37c-.4-.4-.92-.59-1.43-.59-.52 0-1.04.2-1.43.59L10.3 9.45l-7.72 7.72c-.78.78-.78 2.05 0 2.83L4 21.41c.39.39.9.59 1.41.59.51 0 1.02-.2 1.41-.59l7.78-7.78 2.81-2.81c.8-.78.8-2.07 0-2.86zM5.41 20L4 18.59l7.72-7.72 1.47 1.35L5.41 20z\"/>\n",
              "  </svg>\n",
              "      </button>\n",
              "      \n",
              "  <style>\n",
              "    .colab-df-container {\n",
              "      display:flex;\n",
              "      flex-wrap:wrap;\n",
              "      gap: 12px;\n",
              "    }\n",
              "\n",
              "    .colab-df-convert {\n",
              "      background-color: #E8F0FE;\n",
              "      border: none;\n",
              "      border-radius: 50%;\n",
              "      cursor: pointer;\n",
              "      display: none;\n",
              "      fill: #1967D2;\n",
              "      height: 32px;\n",
              "      padding: 0 0 0 0;\n",
              "      width: 32px;\n",
              "    }\n",
              "\n",
              "    .colab-df-convert:hover {\n",
              "      background-color: #E2EBFA;\n",
              "      box-shadow: 0px 1px 2px rgba(60, 64, 67, 0.3), 0px 1px 3px 1px rgba(60, 64, 67, 0.15);\n",
              "      fill: #174EA6;\n",
              "    }\n",
              "\n",
              "    [theme=dark] .colab-df-convert {\n",
              "      background-color: #3B4455;\n",
              "      fill: #D2E3FC;\n",
              "    }\n",
              "\n",
              "    [theme=dark] .colab-df-convert:hover {\n",
              "      background-color: #434B5C;\n",
              "      box-shadow: 0px 1px 3px 1px rgba(0, 0, 0, 0.15);\n",
              "      filter: drop-shadow(0px 1px 2px rgba(0, 0, 0, 0.3));\n",
              "      fill: #FFFFFF;\n",
              "    }\n",
              "  </style>\n",
              "\n",
              "      <script>\n",
              "        const buttonEl =\n",
              "          document.querySelector('#df-bbfdf633-6ea4-4339-8933-ebe0a5b3e87c button.colab-df-convert');\n",
              "        buttonEl.style.display =\n",
              "          google.colab.kernel.accessAllowed ? 'block' : 'none';\n",
              "\n",
              "        async function convertToInteractive(key) {\n",
              "          const element = document.querySelector('#df-bbfdf633-6ea4-4339-8933-ebe0a5b3e87c');\n",
              "          const dataTable =\n",
              "            await google.colab.kernel.invokeFunction('convertToInteractive',\n",
              "                                                     [key], {});\n",
              "          if (!dataTable) return;\n",
              "\n",
              "          const docLinkHtml = 'Like what you see? Visit the ' +\n",
              "            '<a target=\"_blank\" href=https://colab.research.google.com/notebooks/data_table.ipynb>data table notebook</a>'\n",
              "            + ' to learn more about interactive tables.';\n",
              "          element.innerHTML = '';\n",
              "          dataTable['output_type'] = 'display_data';\n",
              "          await google.colab.output.renderOutput(dataTable, element);\n",
              "          const docLink = document.createElement('div');\n",
              "          docLink.innerHTML = docLinkHtml;\n",
              "          element.appendChild(docLink);\n",
              "        }\n",
              "      </script>\n",
              "    </div>\n",
              "  </div>\n",
              "  "
            ]
          },
          "metadata": {},
          "execution_count": 25
        }
      ]
    },
    {
      "cell_type": "markdown",
      "source": [
        "Usually, the comment with more likes can describe something about the video, identifying some pattern or key aspects."
      ],
      "metadata": {
        "id": "XAtVf6fn0E0M"
      }
    },
    {
      "cell_type": "code",
      "source": [
        "df_comments_less['likes'].describe()"
      ],
      "metadata": {
        "colab": {
          "base_uri": "https://localhost:8080/"
        },
        "id": "2Ras-WXCzngC",
        "outputId": "c9c43a4d-b8f5-4997-c75d-792a1aeb9e04"
      },
      "execution_count": 27,
      "outputs": [
        {
          "output_type": "execute_result",
          "data": {
            "text/plain": [
              "count    244.000000\n",
              "mean      16.651639\n",
              "std       47.236616\n",
              "min        0.000000\n",
              "25%        0.000000\n",
              "50%        1.000000\n",
              "75%        5.000000\n",
              "max      287.000000\n",
              "Name: likes, dtype: float64"
            ]
          },
          "metadata": {},
          "execution_count": 27
        }
      ]
    },
    {
      "cell_type": "markdown",
      "source": [
        "The maximum number of likes was 287 \\\\\n",
        "I am going to use my previous function in order to identfy the index\n",
        "\n",
        "\n",
        "\n"
      ],
      "metadata": {
        "id": "5G-m-Ob70lRM"
      }
    },
    {
      "cell_type": "code",
      "source": [
        "views_best(df_comments_less['likes'])"
      ],
      "metadata": {
        "colab": {
          "base_uri": "https://localhost:8080/"
        },
        "id": "-APCS6Ps0ia2",
        "outputId": "3c1350ce-9b64-46ef-814f-74e4b5afe40c"
      },
      "execution_count": 28,
      "outputs": [
        {
          "output_type": "stream",
          "name": "stdout",
          "text": [
            "287\n",
            "[180]\n"
          ]
        }
      ]
    },
    {
      "cell_type": "code",
      "source": [
        "df_comments_less.iloc[180]"
      ],
      "metadata": {
        "colab": {
          "base_uri": "https://localhost:8080/"
        },
        "id": "QSe4dJKi0_1K",
        "outputId": "d46d2f04-c3ad-40ac-e1e5-66bd3ed097ce"
      },
      "execution_count": 29,
      "outputs": [
        {
          "output_type": "execute_result",
          "data": {
            "text/plain": [
              "video_id                        RgskTJ27hPY\n",
              "comment_text    Hello darkness my old nigga\n",
              "likes                                   287\n",
              "replies                                   4\n",
              "Name: 233821, dtype: object"
            ]
          },
          "metadata": {},
          "execution_count": 29
        }
      ]
    },
    {
      "cell_type": "code",
      "source": [],
      "metadata": {
        "id": "sHa0T-fH1J1i"
      },
      "execution_count": null,
      "outputs": []
    },
    {
      "cell_type": "code",
      "source": [],
      "metadata": {
        "id": "ci8cYJqN0fAz"
      },
      "execution_count": null,
      "outputs": []
    },
    {
      "cell_type": "code",
      "source": [],
      "metadata": {
        "id": "uBxpTlSazKuZ"
      },
      "execution_count": null,
      "outputs": []
    }
  ]
}